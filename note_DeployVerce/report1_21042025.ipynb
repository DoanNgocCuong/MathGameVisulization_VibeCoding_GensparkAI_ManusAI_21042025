{
 "cells": [
  {
   "cell_type": "markdown",
   "metadata": {},
   "source": [
    "Em gửi 1 số ý em tổng hợp được (sau khi đọc và hỏi thêm a Huy):  LUỒNG và TÌNH TRẠNG HIỆN TẠI ạ.  \n",
    "\n",
    "1. Các step chính: 1 idea => Game PRD (Mechanics, Gameplay, Interaction) => Machine readable PRD (text content structure (not the codes)  of the outcome on the javascript) => Code (.html) \n",
    "\n",
    "2. Step: Từ Concept Game + Keyword thuật ngữ và phương thức => Ra thuật ngữ JS - JavaScript Structure Discription (Not Code). (5 thuật ngữ: Interactions, Event Handling, Dynamic UI Updates, State Management, Feedback Mechanism)\n",
    "\n",
    "```bash\n",
    "act like a developer and give me the text content structure (not the codes)  of the outcome on the javascript part handling this. \n",
    "\n",
    "- Interactions\n",
    "- Event Handling\n",
    "- Dynamic UI Updates\n",
    "- State Management\n",
    "- Feedback Mechanism\n",
    "\n",
    "1. i dont care about the kids, or the content specifics, i am finding out the technicality of this \n",
    "2. web, html \n",
    "\n",
    "3. remember, what i want to see is what 's the outline of the javascript file would be (text not the codes) \n",
    "```\n",
    "\n",
    "Use case a Hiệp: https://manus.im/share/CGOh028PIZpH4oyUedprkB?replay=1\n",
    "\n",
    "3. Step: Từ JavaScript Structure Discription + Idea Learning Mechanic => ra html\n",
    "\n",
    "Use cases a Hiệp: https://manus.im/share/jW6thAvXyiRMdX6Q6MjDll?replay=1\n",
    "\n",
    "4. Tình trạng hiện tại (trích lời a Huy) \n",
    "\n",
    "Bài game gồm 3 yếu tố: game mechanics, audio, assets  \n",
    "- audio assets cũng chưa đủ để một đập ăn luôn\n",
    "- Có thể giải ở bài game mechanics ở mức basic hoặc hơn basic một chút rồi nhưng mà muốn một đập ăn luôn cả 3 phần rất khó. Tức là 1 prompts em input nó full đủ các yêu cầu từ cơ bản đến nâng cao nhưng nó chỉ vẽ được một phần chung chung\n",
    "- Game 1 đập ăn luôn HTML. Game liên quan tới physics, gravity, ... thì mới dùng framework: Pharser, ..."
   ]
  },
  {
   "cell_type": "markdown",
   "metadata": {},
   "source": [
    "```\n",
    "https://math-game-visulization-vibe-coding-genspark-ai-manus-7frkyjv56.vercel.app/\n",
    "Em mới dựng 2 game của anh, với thêm 2 game mới. Anh xem thử ạ. \n",
    "===\n",
    "```"
   ]
  },
  {
   "cell_type": "markdown",
   "metadata": {},
   "source": [
    "```bash\n",
    "Anh @Cuong Vu Cao em gửi ạ. Em tiết kiệm money cho chị @Thuy Nguyen với Công ty. \n",
    "---\n",
    "1. https://www.genspark.ai/agents?id=1aa3845c-a6bf-4936-a396-1f57b61d51ec\n",
    "2. https://www.genspark.ai/agents?id=c11e9743-6ced-42a7-9ade-74b0efb36863\n",
    "\n",
    "===\n",
    "Prompt trên là Prompt tạo ra 2 trò ở trên Web này ạ: https://math-game-visulization-vibe-coding-genspark-ai-manus-7frkyjv56.vercel.app/  \n",
    "```"
   ]
  }
 ],
 "metadata": {
  "language_info": {
   "name": "python"
  }
 },
 "nbformat": 4,
 "nbformat_minor": 2
}
