{
 "cells": [
  {
   "cell_type": "markdown",
   "metadata": {},
   "source": [
    "# Tạo các template khác nhau và test: template ro research + JSON + của a Hiệp"
   ]
  },
  {
   "cell_type": "markdown",
   "metadata": {},
   "source": [
    "- Sử dụng Idea game -> đi qua template (v56, v7) này -> sau đó cho vào code GENSPARK\n",
    "\n",
    "Link: \n",
    "- https://www.genspark.ai/agents?id=b641287b-c606-4654-ab44-1b5220afce0d\n",
    "- https://www.genspark.ai/agents?id=949233bf-fb5d-42a2-847a-cfeb41f1fa5c\n",
    "\n",
    "\n",
    "Manus: \n",
    "\n",
    "https://manus.im/share/o7P5WBSSyGLTJkgWzPAp6u?replay=1\n",
    "\n",
    "\n"
   ]
  },
  {
   "cell_type": "markdown",
   "metadata": {},
   "source": [
    "Vấn đề là template dài và có khả năng template đơn giản hiệu quả hơn đó \n"
   ]
  }
 ],
 "metadata": {
  "language_info": {
   "name": "python"
  }
 },
 "nbformat": 4,
 "nbformat_minor": 2
}
