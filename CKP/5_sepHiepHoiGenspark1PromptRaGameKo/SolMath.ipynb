{
 "cells": [
  {
   "cell_type": "markdown",
   "metadata": {},
   "source": [
    "Mng đọc để hiểu thêm về bài này. Bỏ qua research số 1, đọc cái số 2 và 3 (khó khăn khi giải 1 bài toán và solution)"
   ]
  },
  {
   "cell_type": "markdown",
   "metadata": {},
   "source": [
    "https://chatgpt.com/share/680501c9-aa94-8004-8f81-838cb62ef980"
   ]
  },
  {
   "cell_type": "code",
   "execution_count": null,
   "metadata": {
    "vscode": {
     "languageId": "plaintext"
    }
   },
   "outputs": [],
   "source": []
  }
 ],
 "metadata": {
  "language_info": {
   "name": "python"
  }
 },
 "nbformat": 4,
 "nbformat_minor": 2
}
