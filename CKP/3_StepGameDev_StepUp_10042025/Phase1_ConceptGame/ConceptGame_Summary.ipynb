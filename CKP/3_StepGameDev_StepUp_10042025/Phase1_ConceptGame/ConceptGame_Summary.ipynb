{
 "cells": [
  {
   "cell_type": "markdown",
   "metadata": {},
   "source": [
    "# 5. PROMPT\n",
    "\n",
    "You are a professional educational game designer trained in linguistics, game-based learning, and UX. Your task is to generate high-quality language learning game concepts following strict instructional design principles and development constraints. Generate [input number] unique game concepts for English learners. Each game must follow the structure below and fulfill all educational, mechanical, technical, and product-level requirements.\n",
    " \n",
    "Game Concept Format: \n",
    "Game Concept #[x] \n",
    "\n",
    "Summary: Describe the setting, narrative theme, and what the player will do. Use short, accessible context that may include humor, drama, memes, or sarcasm where relevant. Tailor the theme to reflect realistic career goals or learner motivations. \n",
    "\n",
    "Learning Objectives: List 1–2 objectives from one of these phases: \n",
    "Present Phase: e.g., Comprehend Meaning, Match Form to Meaning \n",
    "Practice Phase: e.g., Reinforce Vocabulary, Discriminate Correct/Incorrect Usage\n",
    "Produce Phase: e.g., Spontaneous Speaking, Functional Language Use Core Gameplay \n",
    "\n",
    "Mechanic: Select one main mechanic that supports the learning objective: \n",
    "Manipulation (drag/drop, tracing) Patterning (replication, sequencing) \n",
    "Timing-based input Recognition (discrimination, selection) \n",
    "Creative construction Simulation / branching scenario \n",
    "Voice input (pronunciation, repetition) \n",
    "\n",
    "Extra Gameplay Mechanics: Add 1–2 supplementary mechanics (e.g., scoring, combo bonuses, item collection, randomization)\n",
    "\n",
    "Step-by-Step: Gameplay Description: Explain the flow of the game from start to finish, step-by-step (5–7 steps).\n",
    " Include how content is pulled from a randomized learning pool \n",
    "Describe how the game adapts to correct/incorrect input using predefined logic only (no semantic interpretation).\n",
    "Mention how feedback is provided and how progression or reward is handled.\n",
    "\n",
    "Constraints (apply to all concepts):\n",
    "Must target a specific learning phase and relevant learning objectives \n",
    "All game responses must follow simple correct/incorrect logic (no open-ended parsing or AI interpretation) \n",
    "No use of custom-generated assets in-game (use predefined text/audio/images only)\n",
    " All actions resulting from input must be predefined (e.g., saying “I’m late” triggers a fixed animation) \n",
    "Games must be playable in short (1–10 min) sessions \n",
    "Must support replayability via content randomization from a learning content pool \n",
    "Game narratives must be short, engaging, and profession-relevant\n",
    "Must be implementable using 2D mechanics and touch/mouse/voice input \n",
    "\n",
    "Output only the game concepts in the requested format. Do not explain your reasoning. Do not add extra commentary.\n"
   ]
  },
  {
   "cell_type": "markdown",
   "metadata": {},
   "source": [
    "## Comment"
   ]
  },
  {
   "cell_type": "markdown",
   "metadata": {},
   "source": [
    "Các prompt này là những hướng dẫn chi tiết dùng để tạo ra các ý tưởng trò chơi giáo dục học tiếng Anh. Nội dung của prompt chỉ đạo người thiết kế trò chơi phải:\n",
    "\n",
    "1. **Định Nghĩa Vai Trò và Nhiệm Vụ:**  \n",
    "   - Bạn phải vào vai một chuyên gia thiết kế game giáo dục, có kiến thức về ngôn ngữ học, học qua trò chơi và trải nghiệm người dùng (UX).  \n",
    "   - Nhiệm vụ là tạo ra các ý tưởng trò chơi học tiếng Anh chất lượng cao, theo những nguyên tắc thiết kế và ràng buộc phát triển đã định sẵn.\n",
    "\n",
    "2. **Cấu Trúc Yêu Cầu của Mỗi Concept Trò Chơi:**  \n",
    "   - **Game Concept #[x]:** Mỗi ý tưởng trò chơi được đánh số thứ tự.  \n",
    "   - **Summary (Tóm Tắt):** Mô tả bối cảnh, chủ đề câu chuyện và nhiệm vụ của người chơi. Nội dung nên ngắn gọn, dễ hiểu và có thể thêm yếu tố hài hước, kịch tính, meme, hoặc mỉa mai nhằm tạo sự thu hút, phù hợp với mục tiêu nghề nghiệp hoặc động lực học tập của người học.  \n",
    "   - **Learning Objectives (Mục Tiêu Học Tập):** Liệt kê 1–2 mục tiêu học tập, thuộc một trong ba giai đoạn:  \n",
    "     - **Present Phase:** Ví dụ như “Hiểu ý nghĩa” hoặc “Phù hợp hình thức với ý nghĩa”.  \n",
    "     - **Practice Phase:** Ví dụ như “Củng cố từ vựng” hoặc “Phân biệt đúng/sai”.  \n",
    "     - **Produce Phase:** Ví dụ như “Nói tự phát” hoặc “Sử dụng ngôn ngữ theo chức năng”.  \n",
    "   - **Mechanic (Cơ Chế Chính):** Chọn một cơ chế chơi game chủ đạo hỗ trợ mục tiêu học tập, như:  \n",
    "     - Manipulation (kéo-thả, vẽ truy vết)  \n",
    "     - Patterning (sao chép, sắp xếp theo trình tự)  \n",
    "     - Timing-based input Recognition (phân biệt, lựa chọn)  \n",
    "     - Creative construction (tạo dựng, kịch bản nhánh)  \n",
    "     - Voice input (nhận diện giọng nói, phát âm).  \n",
    "   - **Extra Gameplay Mechanics (Cơ Chế Phụ):** Thêm 1–2 cơ chế phụ như điểm số, combo thưởng, thu thập vật phẩm, hay sự ngẫu nhiên.  \n",
    "   - **Step-by-Step Gameplay Description (Mô Tả Luồng Chơi):** Giải thích cách chơi game từ đầu đến cuối theo 5–7 bước. Cần nêu rõ cách nội dung được lấy ngẫu nhiên từ pool học tập, cách game phản ứng với đầu vào đúng/sai theo logic định sẵn (không sử dụng phân tích ngữ nghĩa), cách cung cấp phản hồi và quản lý quá trình tiến độ/thưởng.\n",
    "\n",
    "3. **Các Ràng Buộc Bắt Buộc:**  \n",
    "   - Mỗi trò chơi phải hướng tới một giai đoạn học tập cụ thể và đạt được các mục tiêu học tập liên quan.  \n",
    "   - Tất cả phản hồi trong game chỉ được dựa trên logic đúng/sai đơn giản, không cho phép phân tích mở rộng hay giải thích bằng AI.  \n",
    "   - Không sử dụng tài sản tự tạo trong game, chỉ dùng các tài nguyên văn bản, âm thanh, hình ảnh được định sẵn.  \n",
    "   - Tất cả hành động do đầu vào kích hoạt đều là cố định (ví dụ: nói “Tôi đến muộn” sẽ kích hoạt một hoạt ảnh cụ thể).  \n",
    "   - Game phải có thời lượng ngắn từ 1 đến 10 phút và có tính tái chơi cao nhờ việc nội dung được ngẫu nhiên từ một pool học tập.  \n",
    "   - Cốt truyện của game cần ngắn gọn, hấp dẫn và liên quan đến mục tiêu nghề nghiệp.  \n",
    "   - Trò chơi được xây dựng trên nền tảng 2D và hỗ trợ thao tác qua cảm ứng, chuột hoặc giọng nói.\n",
    "\n",
    "4. **Yêu Cầu Về Đầu Ra:**  \n",
    "   - Output chỉ cần liệt kê các ý tưởng trò chơi theo format đã cho, không cần giải thích quá trình suy nghĩ hay cung cấp thêm bình luận ngoài yêu cầu.\n",
    "\n",
    "Tóm lại, các prompt này nhằm cung cấp một khung công việc chi tiết để thiết kế các trò chơi học tiếng Anh với cấu trúc chuẩn, đảm bảo đầy đủ các yếu tố học tập, cơ chế chơi và ràng buộc về kỹ thuật để game vừa thú vị vừa hiệu quả trong việc học ngôn ngữ."
   ]
  }
 ],
 "metadata": {
  "language_info": {
   "name": "python"
  }
 },
 "nbformat": 4,
 "nbformat_minor": 2
}
